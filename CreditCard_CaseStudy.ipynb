{
 "cells": [
  {
   "cell_type": "markdown",
   "metadata": {},
   "source": [
    "## Machine Learning - Building Models\n",
    "\n",
    "#### Case Study - Credit Card Payment"
   ]
  },
  {
   "cell_type": "code",
   "execution_count": 51,
   "metadata": {},
   "outputs": [
    {
     "name": "stdout",
     "output_type": "stream",
     "text": [
      "Requirement already satisfied: imblearn in c:\\users\\user\\anaconda3\\lib\\site-packages (0.0)\n",
      "Requirement already satisfied: imbalanced-learn in c:\\users\\user\\anaconda3\\lib\\site-packages (from imblearn) (0.7.0)\n",
      "Requirement already satisfied: numpy>=1.13.3 in c:\\users\\user\\anaconda3\\lib\\site-packages (from imbalanced-learn->imblearn) (1.18.5)\n",
      "Requirement already satisfied: scipy>=0.19.1 in c:\\users\\user\\anaconda3\\lib\\site-packages (from imbalanced-learn->imblearn) (1.4.1)\n",
      "Requirement already satisfied: scikit-learn>=0.23 in c:\\users\\user\\anaconda3\\lib\\site-packages (from imbalanced-learn->imblearn) (0.23.1)\n",
      "Requirement already satisfied: joblib>=0.11 in c:\\users\\user\\anaconda3\\lib\\site-packages (from imbalanced-learn->imblearn) (0.16.0)\n",
      "Requirement already satisfied: threadpoolctl>=2.0.0 in c:\\users\\user\\anaconda3\\lib\\site-packages (from scikit-learn>=0.23->imbalanced-learn->imblearn) (2.1.0)\n"
     ]
    },
    {
     "name": "stderr",
     "output_type": "stream",
     "text": [
      "WARNING: You are using pip version 20.3.3; however, version 21.0.1 is available.\n",
      "You should consider upgrading via the 'c:\\users\\user\\anaconda3\\python.exe -m pip install --upgrade pip' command.\n"
     ]
    }
   ],
   "source": [
    "!pip install imblearn"
   ]
  },
  {
   "cell_type": "code",
   "execution_count": 52,
   "metadata": {},
   "outputs": [],
   "source": [
    "import pandas as pd\n",
    "import seaborn as sns\n",
    "import matplotlib.pyplot as plt\n",
    "import seaborn as sns\n",
    "import warnings # to ignore warning\n",
    "warnings.filterwarnings(\"ignore\", category=DeprecationWarning)\n",
    "warnings.filterwarnings(\"ignore\", category=FutureWarning)\n",
    "%matplotlib inline"
   ]
  },
  {
   "cell_type": "code",
   "execution_count": 53,
   "metadata": {},
   "outputs": [
    {
     "data": {
      "text/plain": [
       "(15000, 25)"
      ]
     },
     "execution_count": 53,
     "metadata": {},
     "output_type": "execute_result"
    }
   ],
   "source": [
    "credit = pd.read_csv(\"UCI_Credit_Card.csv\")\n",
    "credit.shape"
   ]
  },
  {
   "cell_type": "code",
   "execution_count": 54,
   "metadata": {},
   "outputs": [
    {
     "data": {
      "text/html": [
       "<div>\n",
       "<style scoped>\n",
       "    .dataframe tbody tr th:only-of-type {\n",
       "        vertical-align: middle;\n",
       "    }\n",
       "\n",
       "    .dataframe tbody tr th {\n",
       "        vertical-align: top;\n",
       "    }\n",
       "\n",
       "    .dataframe thead th {\n",
       "        text-align: right;\n",
       "    }\n",
       "</style>\n",
       "<table border=\"1\" class=\"dataframe\">\n",
       "  <thead>\n",
       "    <tr style=\"text-align: right;\">\n",
       "      <th></th>\n",
       "      <th>ID</th>\n",
       "      <th>LIMIT_BAL</th>\n",
       "      <th>SEX</th>\n",
       "      <th>EDUCATION</th>\n",
       "      <th>MARRIAGE</th>\n",
       "      <th>AGE</th>\n",
       "      <th>PAY_0</th>\n",
       "      <th>PAY_2</th>\n",
       "      <th>PAY_3</th>\n",
       "      <th>PAY_4</th>\n",
       "      <th>...</th>\n",
       "      <th>BILL_AMT4</th>\n",
       "      <th>BILL_AMT5</th>\n",
       "      <th>BILL_AMT6</th>\n",
       "      <th>PAY_AMT1</th>\n",
       "      <th>PAY_AMT2</th>\n",
       "      <th>PAY_AMT3</th>\n",
       "      <th>PAY_AMT4</th>\n",
       "      <th>PAY_AMT5</th>\n",
       "      <th>PAY_AMT6</th>\n",
       "      <th>default.payment.next.month</th>\n",
       "    </tr>\n",
       "  </thead>\n",
       "  <tbody>\n",
       "    <tr>\n",
       "      <th>0</th>\n",
       "      <td>2</td>\n",
       "      <td>120000.0</td>\n",
       "      <td>2</td>\n",
       "      <td>2</td>\n",
       "      <td>2</td>\n",
       "      <td>26</td>\n",
       "      <td>-1</td>\n",
       "      <td>2</td>\n",
       "      <td>0</td>\n",
       "      <td>0</td>\n",
       "      <td>...</td>\n",
       "      <td>3272.0</td>\n",
       "      <td>3455.0</td>\n",
       "      <td>3261.0</td>\n",
       "      <td>0.0</td>\n",
       "      <td>1000.0</td>\n",
       "      <td>1000.0</td>\n",
       "      <td>1000.0</td>\n",
       "      <td>0.0</td>\n",
       "      <td>2000.0</td>\n",
       "      <td>1</td>\n",
       "    </tr>\n",
       "    <tr>\n",
       "      <th>1</th>\n",
       "      <td>4</td>\n",
       "      <td>50000.0</td>\n",
       "      <td>2</td>\n",
       "      <td>2</td>\n",
       "      <td>1</td>\n",
       "      <td>37</td>\n",
       "      <td>0</td>\n",
       "      <td>0</td>\n",
       "      <td>0</td>\n",
       "      <td>0</td>\n",
       "      <td>...</td>\n",
       "      <td>28314.0</td>\n",
       "      <td>28959.0</td>\n",
       "      <td>29547.0</td>\n",
       "      <td>2000.0</td>\n",
       "      <td>2019.0</td>\n",
       "      <td>1200.0</td>\n",
       "      <td>1100.0</td>\n",
       "      <td>1069.0</td>\n",
       "      <td>1000.0</td>\n",
       "      <td>0</td>\n",
       "    </tr>\n",
       "    <tr>\n",
       "      <th>2</th>\n",
       "      <td>6</td>\n",
       "      <td>50000.0</td>\n",
       "      <td>1</td>\n",
       "      <td>1</td>\n",
       "      <td>2</td>\n",
       "      <td>37</td>\n",
       "      <td>0</td>\n",
       "      <td>0</td>\n",
       "      <td>0</td>\n",
       "      <td>0</td>\n",
       "      <td>...</td>\n",
       "      <td>19394.0</td>\n",
       "      <td>19619.0</td>\n",
       "      <td>20024.0</td>\n",
       "      <td>2500.0</td>\n",
       "      <td>1815.0</td>\n",
       "      <td>657.0</td>\n",
       "      <td>1000.0</td>\n",
       "      <td>1000.0</td>\n",
       "      <td>800.0</td>\n",
       "      <td>0</td>\n",
       "    </tr>\n",
       "    <tr>\n",
       "      <th>3</th>\n",
       "      <td>8</td>\n",
       "      <td>100000.0</td>\n",
       "      <td>2</td>\n",
       "      <td>2</td>\n",
       "      <td>2</td>\n",
       "      <td>23</td>\n",
       "      <td>0</td>\n",
       "      <td>-1</td>\n",
       "      <td>-1</td>\n",
       "      <td>0</td>\n",
       "      <td>...</td>\n",
       "      <td>221.0</td>\n",
       "      <td>-159.0</td>\n",
       "      <td>567.0</td>\n",
       "      <td>380.0</td>\n",
       "      <td>601.0</td>\n",
       "      <td>0.0</td>\n",
       "      <td>581.0</td>\n",
       "      <td>1687.0</td>\n",
       "      <td>1542.0</td>\n",
       "      <td>0</td>\n",
       "    </tr>\n",
       "    <tr>\n",
       "      <th>4</th>\n",
       "      <td>10</td>\n",
       "      <td>20000.0</td>\n",
       "      <td>1</td>\n",
       "      <td>3</td>\n",
       "      <td>2</td>\n",
       "      <td>35</td>\n",
       "      <td>-2</td>\n",
       "      <td>-2</td>\n",
       "      <td>-2</td>\n",
       "      <td>-2</td>\n",
       "      <td>...</td>\n",
       "      <td>0.0</td>\n",
       "      <td>13007.0</td>\n",
       "      <td>13912.0</td>\n",
       "      <td>0.0</td>\n",
       "      <td>0.0</td>\n",
       "      <td>0.0</td>\n",
       "      <td>13007.0</td>\n",
       "      <td>1122.0</td>\n",
       "      <td>0.0</td>\n",
       "      <td>0</td>\n",
       "    </tr>\n",
       "  </tbody>\n",
       "</table>\n",
       "<p>5 rows × 25 columns</p>\n",
       "</div>"
      ],
      "text/plain": [
       "   ID  LIMIT_BAL  SEX  EDUCATION  MARRIAGE  AGE  PAY_0  PAY_2  PAY_3  PAY_4  \\\n",
       "0   2   120000.0    2          2         2   26     -1      2      0      0   \n",
       "1   4    50000.0    2          2         1   37      0      0      0      0   \n",
       "2   6    50000.0    1          1         2   37      0      0      0      0   \n",
       "3   8   100000.0    2          2         2   23      0     -1     -1      0   \n",
       "4  10    20000.0    1          3         2   35     -2     -2     -2     -2   \n",
       "\n",
       "   ...  BILL_AMT4  BILL_AMT5  BILL_AMT6  PAY_AMT1  PAY_AMT2  PAY_AMT3  \\\n",
       "0  ...     3272.0     3455.0     3261.0       0.0    1000.0    1000.0   \n",
       "1  ...    28314.0    28959.0    29547.0    2000.0    2019.0    1200.0   \n",
       "2  ...    19394.0    19619.0    20024.0    2500.0    1815.0     657.0   \n",
       "3  ...      221.0     -159.0      567.0     380.0     601.0       0.0   \n",
       "4  ...        0.0    13007.0    13912.0       0.0       0.0       0.0   \n",
       "\n",
       "   PAY_AMT4  PAY_AMT5  PAY_AMT6  default.payment.next.month  \n",
       "0    1000.0       0.0    2000.0                           1  \n",
       "1    1100.0    1069.0    1000.0                           0  \n",
       "2    1000.0    1000.0     800.0                           0  \n",
       "3     581.0    1687.0    1542.0                           0  \n",
       "4   13007.0    1122.0       0.0                           0  \n",
       "\n",
       "[5 rows x 25 columns]"
      ]
     },
     "execution_count": 54,
     "metadata": {},
     "output_type": "execute_result"
    }
   ],
   "source": [
    "credit.head()"
   ]
  },
  {
   "cell_type": "code",
   "execution_count": 55,
   "metadata": {},
   "outputs": [],
   "source": [
    "credit.drop(['ID'],axis=1, inplace=True)"
   ]
  },
  {
   "cell_type": "code",
   "execution_count": 56,
   "metadata": {},
   "outputs": [
    {
     "data": {
      "text/plain": [
       "LIMIT_BAL                     0\n",
       "SEX                           0\n",
       "EDUCATION                     0\n",
       "MARRIAGE                      0\n",
       "AGE                           0\n",
       "PAY_0                         0\n",
       "PAY_2                         0\n",
       "PAY_3                         0\n",
       "PAY_4                         0\n",
       "PAY_5                         0\n",
       "PAY_6                         0\n",
       "BILL_AMT1                     0\n",
       "BILL_AMT2                     0\n",
       "BILL_AMT3                     0\n",
       "BILL_AMT4                     0\n",
       "BILL_AMT5                     0\n",
       "BILL_AMT6                     0\n",
       "PAY_AMT1                      0\n",
       "PAY_AMT2                      0\n",
       "PAY_AMT3                      0\n",
       "PAY_AMT4                      0\n",
       "PAY_AMT5                      0\n",
       "PAY_AMT6                      0\n",
       "default.payment.next.month    0\n",
       "dtype: int64"
      ]
     },
     "execution_count": 56,
     "metadata": {},
     "output_type": "execute_result"
    }
   ],
   "source": [
    "credit.isnull().sum()"
   ]
  },
  {
   "cell_type": "code",
   "execution_count": 57,
   "metadata": {},
   "outputs": [
    {
     "data": {
      "text/html": [
       "<div>\n",
       "<style scoped>\n",
       "    .dataframe tbody tr th:only-of-type {\n",
       "        vertical-align: middle;\n",
       "    }\n",
       "\n",
       "    .dataframe tbody tr th {\n",
       "        vertical-align: top;\n",
       "    }\n",
       "\n",
       "    .dataframe thead th {\n",
       "        text-align: right;\n",
       "    }\n",
       "</style>\n",
       "<table border=\"1\" class=\"dataframe\">\n",
       "  <thead>\n",
       "    <tr style=\"text-align: right;\">\n",
       "      <th></th>\n",
       "      <th>LIMIT_BAL</th>\n",
       "      <th>SEX</th>\n",
       "      <th>EDUCATION</th>\n",
       "      <th>MARRIAGE</th>\n",
       "      <th>AGE</th>\n",
       "      <th>PAY_0</th>\n",
       "      <th>PAY_2</th>\n",
       "      <th>PAY_3</th>\n",
       "      <th>PAY_4</th>\n",
       "      <th>PAY_5</th>\n",
       "      <th>...</th>\n",
       "      <th>BILL_AMT4</th>\n",
       "      <th>BILL_AMT5</th>\n",
       "      <th>BILL_AMT6</th>\n",
       "      <th>PAY_AMT1</th>\n",
       "      <th>PAY_AMT2</th>\n",
       "      <th>PAY_AMT3</th>\n",
       "      <th>PAY_AMT4</th>\n",
       "      <th>PAY_AMT5</th>\n",
       "      <th>PAY_AMT6</th>\n",
       "      <th>default.payment.next.month</th>\n",
       "    </tr>\n",
       "  </thead>\n",
       "  <tbody>\n",
       "    <tr>\n",
       "      <th>count</th>\n",
       "      <td>15000.000000</td>\n",
       "      <td>15000.000000</td>\n",
       "      <td>15000.000000</td>\n",
       "      <td>15000.000000</td>\n",
       "      <td>15000.000000</td>\n",
       "      <td>15000.000000</td>\n",
       "      <td>15000.000000</td>\n",
       "      <td>15000.000000</td>\n",
       "      <td>15000.000000</td>\n",
       "      <td>15000.000000</td>\n",
       "      <td>...</td>\n",
       "      <td>15000.000000</td>\n",
       "      <td>15000.000000</td>\n",
       "      <td>15000.000000</td>\n",
       "      <td>15000.00000</td>\n",
       "      <td>1.500000e+04</td>\n",
       "      <td>15000.000000</td>\n",
       "      <td>15000.000000</td>\n",
       "      <td>15000.000000</td>\n",
       "      <td>15000.000000</td>\n",
       "      <td>15000.000000</td>\n",
       "    </tr>\n",
       "    <tr>\n",
       "      <th>mean</th>\n",
       "      <td>169527.578667</td>\n",
       "      <td>1.603933</td>\n",
       "      <td>1.855933</td>\n",
       "      <td>1.545200</td>\n",
       "      <td>35.508467</td>\n",
       "      <td>-0.030867</td>\n",
       "      <td>-0.138800</td>\n",
       "      <td>-0.176933</td>\n",
       "      <td>-0.229200</td>\n",
       "      <td>-0.273067</td>\n",
       "      <td>...</td>\n",
       "      <td>43118.445933</td>\n",
       "      <td>40351.464000</td>\n",
       "      <td>38825.088667</td>\n",
       "      <td>5780.55660</td>\n",
       "      <td>6.127210e+03</td>\n",
       "      <td>5307.791000</td>\n",
       "      <td>4965.934067</td>\n",
       "      <td>4903.425000</td>\n",
       "      <td>5266.527867</td>\n",
       "      <td>0.218867</td>\n",
       "    </tr>\n",
       "    <tr>\n",
       "      <th>std</th>\n",
       "      <td>130648.638294</td>\n",
       "      <td>0.489095</td>\n",
       "      <td>0.791467</td>\n",
       "      <td>0.520745</td>\n",
       "      <td>9.197418</td>\n",
       "      <td>1.122912</td>\n",
       "      <td>1.202954</td>\n",
       "      <td>1.197438</td>\n",
       "      <td>1.169141</td>\n",
       "      <td>1.127558</td>\n",
       "      <td>...</td>\n",
       "      <td>64329.094075</td>\n",
       "      <td>61109.614828</td>\n",
       "      <td>60034.459443</td>\n",
       "      <td>16549.96775</td>\n",
       "      <td>2.227448e+04</td>\n",
       "      <td>17651.918097</td>\n",
       "      <td>16584.273453</td>\n",
       "      <td>15621.695352</td>\n",
       "      <td>17953.612040</td>\n",
       "      <td>0.413492</td>\n",
       "    </tr>\n",
       "    <tr>\n",
       "      <th>min</th>\n",
       "      <td>10000.000000</td>\n",
       "      <td>1.000000</td>\n",
       "      <td>0.000000</td>\n",
       "      <td>0.000000</td>\n",
       "      <td>21.000000</td>\n",
       "      <td>-2.000000</td>\n",
       "      <td>-2.000000</td>\n",
       "      <td>-2.000000</td>\n",
       "      <td>-2.000000</td>\n",
       "      <td>-2.000000</td>\n",
       "      <td>...</td>\n",
       "      <td>-170000.000000</td>\n",
       "      <td>-53007.000000</td>\n",
       "      <td>-209051.000000</td>\n",
       "      <td>0.00000</td>\n",
       "      <td>0.000000e+00</td>\n",
       "      <td>0.000000</td>\n",
       "      <td>0.000000</td>\n",
       "      <td>0.000000</td>\n",
       "      <td>0.000000</td>\n",
       "      <td>0.000000</td>\n",
       "    </tr>\n",
       "    <tr>\n",
       "      <th>25%</th>\n",
       "      <td>50000.000000</td>\n",
       "      <td>1.000000</td>\n",
       "      <td>1.000000</td>\n",
       "      <td>1.000000</td>\n",
       "      <td>28.000000</td>\n",
       "      <td>-1.000000</td>\n",
       "      <td>-1.000000</td>\n",
       "      <td>-1.000000</td>\n",
       "      <td>-1.000000</td>\n",
       "      <td>-1.000000</td>\n",
       "      <td>...</td>\n",
       "      <td>2303.000000</td>\n",
       "      <td>1759.000000</td>\n",
       "      <td>1248.000000</td>\n",
       "      <td>971.75000</td>\n",
       "      <td>8.352500e+02</td>\n",
       "      <td>392.000000</td>\n",
       "      <td>299.000000</td>\n",
       "      <td>266.000000</td>\n",
       "      <td>118.000000</td>\n",
       "      <td>0.000000</td>\n",
       "    </tr>\n",
       "    <tr>\n",
       "      <th>50%</th>\n",
       "      <td>140000.000000</td>\n",
       "      <td>2.000000</td>\n",
       "      <td>2.000000</td>\n",
       "      <td>2.000000</td>\n",
       "      <td>34.000000</td>\n",
       "      <td>0.000000</td>\n",
       "      <td>0.000000</td>\n",
       "      <td>0.000000</td>\n",
       "      <td>0.000000</td>\n",
       "      <td>0.000000</td>\n",
       "      <td>...</td>\n",
       "      <td>18944.000000</td>\n",
       "      <td>17934.000000</td>\n",
       "      <td>16587.000000</td>\n",
       "      <td>2100.00000</td>\n",
       "      <td>2.010000e+03</td>\n",
       "      <td>1823.000000</td>\n",
       "      <td>1500.000000</td>\n",
       "      <td>1500.000000</td>\n",
       "      <td>1500.000000</td>\n",
       "      <td>0.000000</td>\n",
       "    </tr>\n",
       "    <tr>\n",
       "      <th>75%</th>\n",
       "      <td>240000.000000</td>\n",
       "      <td>2.000000</td>\n",
       "      <td>2.000000</td>\n",
       "      <td>2.000000</td>\n",
       "      <td>41.000000</td>\n",
       "      <td>0.000000</td>\n",
       "      <td>0.000000</td>\n",
       "      <td>0.000000</td>\n",
       "      <td>0.000000</td>\n",
       "      <td>0.000000</td>\n",
       "      <td>...</td>\n",
       "      <td>53963.250000</td>\n",
       "      <td>49944.000000</td>\n",
       "      <td>48739.750000</td>\n",
       "      <td>5020.25000</td>\n",
       "      <td>5.000000e+03</td>\n",
       "      <td>4500.000000</td>\n",
       "      <td>4040.000000</td>\n",
       "      <td>4077.500000</td>\n",
       "      <td>4100.000000</td>\n",
       "      <td>0.000000</td>\n",
       "    </tr>\n",
       "    <tr>\n",
       "      <th>max</th>\n",
       "      <td>1000000.000000</td>\n",
       "      <td>2.000000</td>\n",
       "      <td>6.000000</td>\n",
       "      <td>3.000000</td>\n",
       "      <td>79.000000</td>\n",
       "      <td>8.000000</td>\n",
       "      <td>8.000000</td>\n",
       "      <td>8.000000</td>\n",
       "      <td>8.000000</td>\n",
       "      <td>7.000000</td>\n",
       "      <td>...</td>\n",
       "      <td>891586.000000</td>\n",
       "      <td>927171.000000</td>\n",
       "      <td>961664.000000</td>\n",
       "      <td>493358.00000</td>\n",
       "      <td>1.227082e+06</td>\n",
       "      <td>896040.000000</td>\n",
       "      <td>497000.000000</td>\n",
       "      <td>426529.000000</td>\n",
       "      <td>527143.000000</td>\n",
       "      <td>1.000000</td>\n",
       "    </tr>\n",
       "  </tbody>\n",
       "</table>\n",
       "<p>8 rows × 24 columns</p>\n",
       "</div>"
      ],
      "text/plain": [
       "            LIMIT_BAL           SEX     EDUCATION      MARRIAGE           AGE  \\\n",
       "count    15000.000000  15000.000000  15000.000000  15000.000000  15000.000000   \n",
       "mean    169527.578667      1.603933      1.855933      1.545200     35.508467   \n",
       "std     130648.638294      0.489095      0.791467      0.520745      9.197418   \n",
       "min      10000.000000      1.000000      0.000000      0.000000     21.000000   \n",
       "25%      50000.000000      1.000000      1.000000      1.000000     28.000000   \n",
       "50%     140000.000000      2.000000      2.000000      2.000000     34.000000   \n",
       "75%     240000.000000      2.000000      2.000000      2.000000     41.000000   \n",
       "max    1000000.000000      2.000000      6.000000      3.000000     79.000000   \n",
       "\n",
       "              PAY_0         PAY_2         PAY_3         PAY_4         PAY_5  \\\n",
       "count  15000.000000  15000.000000  15000.000000  15000.000000  15000.000000   \n",
       "mean      -0.030867     -0.138800     -0.176933     -0.229200     -0.273067   \n",
       "std        1.122912      1.202954      1.197438      1.169141      1.127558   \n",
       "min       -2.000000     -2.000000     -2.000000     -2.000000     -2.000000   \n",
       "25%       -1.000000     -1.000000     -1.000000     -1.000000     -1.000000   \n",
       "50%        0.000000      0.000000      0.000000      0.000000      0.000000   \n",
       "75%        0.000000      0.000000      0.000000      0.000000      0.000000   \n",
       "max        8.000000      8.000000      8.000000      8.000000      7.000000   \n",
       "\n",
       "       ...      BILL_AMT4      BILL_AMT5      BILL_AMT6      PAY_AMT1  \\\n",
       "count  ...   15000.000000   15000.000000   15000.000000   15000.00000   \n",
       "mean   ...   43118.445933   40351.464000   38825.088667    5780.55660   \n",
       "std    ...   64329.094075   61109.614828   60034.459443   16549.96775   \n",
       "min    ... -170000.000000  -53007.000000 -209051.000000       0.00000   \n",
       "25%    ...    2303.000000    1759.000000    1248.000000     971.75000   \n",
       "50%    ...   18944.000000   17934.000000   16587.000000    2100.00000   \n",
       "75%    ...   53963.250000   49944.000000   48739.750000    5020.25000   \n",
       "max    ...  891586.000000  927171.000000  961664.000000  493358.00000   \n",
       "\n",
       "           PAY_AMT2       PAY_AMT3       PAY_AMT4       PAY_AMT5  \\\n",
       "count  1.500000e+04   15000.000000   15000.000000   15000.000000   \n",
       "mean   6.127210e+03    5307.791000    4965.934067    4903.425000   \n",
       "std    2.227448e+04   17651.918097   16584.273453   15621.695352   \n",
       "min    0.000000e+00       0.000000       0.000000       0.000000   \n",
       "25%    8.352500e+02     392.000000     299.000000     266.000000   \n",
       "50%    2.010000e+03    1823.000000    1500.000000    1500.000000   \n",
       "75%    5.000000e+03    4500.000000    4040.000000    4077.500000   \n",
       "max    1.227082e+06  896040.000000  497000.000000  426529.000000   \n",
       "\n",
       "            PAY_AMT6  default.payment.next.month  \n",
       "count   15000.000000                15000.000000  \n",
       "mean     5266.527867                    0.218867  \n",
       "std     17953.612040                    0.413492  \n",
       "min         0.000000                    0.000000  \n",
       "25%       118.000000                    0.000000  \n",
       "50%      1500.000000                    0.000000  \n",
       "75%      4100.000000                    0.000000  \n",
       "max    527143.000000                    1.000000  \n",
       "\n",
       "[8 rows x 24 columns]"
      ]
     },
     "execution_count": 57,
     "metadata": {},
     "output_type": "execute_result"
    }
   ],
   "source": [
    "credit.describe()"
   ]
  },
  {
   "cell_type": "code",
   "execution_count": 58,
   "metadata": {},
   "outputs": [
    {
     "data": {
      "image/png": "[encoded data removed]",
      "text/plain": [
       "<Figure size 432x432 with 1 Axes>"
      ]
     },
     "metadata": {
      "needs_background": "light"
     },
     "output_type": "display_data"
    }
   ],
   "source": [
    "temp = credit['default.payment.next.month'].value_counts()\n",
    "df = pd.DataFrame({'default.payment.next.month': temp.index,'values': temp.values})\n",
    "plt.figure(figsize=(6,6))\n",
    "plt.title('Default Credit Card Clients - target value - data unbalance\\n (Default = 0, Not Default = 1)')\n",
    "sns.set_color_codes(\"pastel\")\n",
    "sns.barplot(x = 'default.payment.next.month', y=\"values\", data=df)\n",
    "locs, labels = plt.xticks()\n",
    "plt.show()"
   ]
  },
  {
   "cell_type": "code",
   "execution_count": 59,
   "metadata": {},
   "outputs": [
    {
     "data": {
      "image/png": "[encoded data removed]",
      "text/plain": [
       "<Figure size 576x576 with 2 Axes>"
      ]
     },
     "metadata": {
      "needs_background": "light"
     },
     "output_type": "display_data"
    }
   ],
   "source": [
    "var = ['BILL_AMT1','BILL_AMT2','BILL_AMT3','BILL_AMT4','BILL_AMT5','BILL_AMT6']\n",
    "plt.figure(figsize=(8,8))\n",
    "plt.title('Amount of bill statement (Apr-Sept) \\ncorrelation plot (Pearson)')\n",
    "corr = credit[var].corr()\n",
    "sns.heatmap(corr,xticklabels=corr.columns,yticklabels=corr.columns)\n",
    "plt.show()"
   ]
  },
  {
   "cell_type": "code",
   "execution_count": 60,
   "metadata": {},
   "outputs": [],
   "source": [
    "cat_features = ['EDUCATION', 'SEX', 'MARRIAGE', 'PAY_0', 'PAY_2', 'PAY_3', 'PAY_4', 'PAY_5', 'PAY_6']\n",
    "\n",
    "credit_dummies = pd.get_dummies(credit, columns=cat_features)"
   ]
  },
  {
   "cell_type": "code",
   "execution_count": 61,
   "metadata": {},
   "outputs": [
    {
     "name": "stdout",
     "output_type": "stream",
     "text": [
      "Default of Credit Card Clients train data -  rows: 15000  columns: 90\n"
     ]
    }
   ],
   "source": [
    "print(\"Default of Credit Card Clients train data -  rows:\",credit_dummies.shape[0],\" columns:\", credit_dummies.shape[1])"
   ]
  },
  {
   "cell_type": "code",
   "execution_count": 62,
   "metadata": {},
   "outputs": [],
   "source": [
    "target= 'default.payment.next.month'\n",
    "predictors = ['LIMIT_BAL', 'AGE', 'BILL_AMT1', 'BILL_AMT2', 'BILL_AMT3', 'BILL_AMT4',\n",
    "       'BILL_AMT5', 'PAY_AMT1', 'PAY_AMT2', 'PAY_AMT3',\n",
    "       'PAY_AMT4', 'PAY_AMT5',\n",
    "       'EDUCATION_0', 'EDUCATION_1', 'EDUCATION_2', 'EDUCATION_3',\n",
    "       'EDUCATION_4', 'EDUCATION_5', 'SEX_1',\n",
    "       'MARRIAGE_0', 'MARRIAGE_1', 'MARRIAGE_2', 'PAY_0_-2',\n",
    "       'PAY_0_-1', 'PAY_0_0', 'PAY_0_1', 'PAY_0_2', 'PAY_0_3', 'PAY_0_4',\n",
    "       'PAY_0_5', 'PAY_0_6', 'PAY_0_7', 'PAY_2_-2', 'PAY_2_-1',\n",
    "       'PAY_2_0', 'PAY_2_1', 'PAY_2_2', 'PAY_2_3', 'PAY_2_4', 'PAY_2_5',\n",
    "       'PAY_2_6', 'PAY_2_7', 'PAY_3_-2', 'PAY_3_-1', 'PAY_3_0',\n",
    "       'PAY_3_1', 'PAY_3_2', 'PAY_3_3', 'PAY_3_4', 'PAY_3_5', 'PAY_3_6',\n",
    "       'PAY_3_7', 'PAY_4_-2', 'PAY_4_-1', 'PAY_4_0', 'PAY_4_1',\n",
    "       'PAY_4_2', 'PAY_4_3', 'PAY_4_4', 'PAY_4_5', 'PAY_4_6', 'PAY_4_7',\n",
    "       'PAY_5_-2', 'PAY_5_-1', 'PAY_5_0', 'PAY_5_2', 'PAY_5_3',\n",
    "       'PAY_5_4', 'PAY_5_5', 'PAY_5_6', 'PAY_5_7', 'PAY_6_-2',\n",
    "       'PAY_6_-1', 'PAY_6_0', 'PAY_6_2', 'PAY_6_3', 'PAY_6_4', 'PAY_6_5',\n",
    "       'PAY_6_6', 'PAY_6_7']"
   ]
  },
  {
   "cell_type": "code",
   "execution_count": 63,
   "metadata": {},
   "outputs": [],
   "source": [
    "#Assigning and dividing the dataset\n",
    "X = credit_dummies[predictors]\n",
    "y=credit_dummies['default.payment.next.month']"
   ]
  },
  {
   "cell_type": "code",
   "execution_count": 64,
   "metadata": {},
   "outputs": [
    {
     "data": {
      "text/plain": [
       "(12000, 80)"
      ]
     },
     "execution_count": 64,
     "metadata": {},
     "output_type": "execute_result"
    }
   ],
   "source": [
    "from sklearn.model_selection import train_test_split\n",
    "\n",
    "X_train, X_test, y_train, y_test = train_test_split(X,y, test_size=0.2, random_state=5)\n",
    "X_train.shape"
   ]
  },
  {
   "cell_type": "code",
   "execution_count": 65,
   "metadata": {},
   "outputs": [
    {
     "data": {
      "text/plain": [
       "(3000, 80)"
      ]
     },
     "execution_count": 65,
     "metadata": {},
     "output_type": "execute_result"
    }
   ],
   "source": [
    "X_test.shape"
   ]
  },
  {
   "cell_type": "markdown",
   "metadata": {},
   "source": [
    "## LogisticRegression"
   ]
  },
  {
   "cell_type": "code",
   "execution_count": 66,
   "metadata": {},
   "outputs": [
    {
     "data": {
      "text/plain": [
       "LogisticRegression(C=0.4, max_iter=1000, solver='liblinear')"
      ]
     },
     "execution_count": 66,
     "metadata": {},
     "output_type": "execute_result"
    }
   ],
   "source": [
    "from sklearn.linear_model import LogisticRegression\n",
    "classifier = LogisticRegression(C=0.4,max_iter=1000,solver='liblinear')\n",
    "classifier.fit(X_train, y_train)"
   ]
  },
  {
   "cell_type": "code",
   "execution_count": 67,
   "metadata": {},
   "outputs": [],
   "source": [
    "#### Predicting on X_test dataset\n",
    "y_pred = classifier.predict(X_test)"
   ]
  },
  {
   "cell_type": "code",
   "execution_count": 68,
   "metadata": {},
   "outputs": [
    {
     "name": "stdout",
     "output_type": "stream",
     "text": [
      "                 Model  Accuracy  Precision    Recall  F1 Score\n",
      "0  Logistic Regression  0.823667   0.683616  0.367223  0.477789\n"
     ]
    }
   ],
   "source": [
    "from sklearn.metrics import confusion_matrix, accuracy_score, f1_score, precision_score, recall_score\n",
    "acc = accuracy_score(y_test, y_pred)\n",
    "prec = precision_score(y_test, y_pred)\n",
    "rec = recall_score(y_test, y_pred)\n",
    "f1 = f1_score(y_test, y_pred)\n",
    "\n",
    "results = pd.DataFrame([['Logistic Regression', acc, prec, rec, f1]],\n",
    "               columns = ['Model', 'Accuracy', 'Precision', 'Recall', 'F1 Score'])\n",
    "print(results)"
   ]
  },
  {
   "cell_type": "code",
   "execution_count": 69,
   "metadata": {},
   "outputs": [
    {
     "data": {
      "text/plain": [
       "array([[2229,  112],\n",
       "       [ 417,  242]], dtype=int64)"
      ]
     },
     "execution_count": 69,
     "metadata": {},
     "output_type": "execute_result"
    }
   ],
   "source": [
    "confusion_matrix(y_test,y_pred)"
   ]
  },
  {
   "cell_type": "markdown",
   "metadata": {},
   "source": [
    "#### Applying SMOTE as data is unbalanced"
   ]
  },
  {
   "cell_type": "code",
   "execution_count": 70,
   "metadata": {},
   "outputs": [
    {
     "name": "stdout",
     "output_type": "stream",
     "text": [
      "18752\n"
     ]
    }
   ],
   "source": [
    "from imblearn.over_sampling import SMOTE\n",
    "\n",
    "sm = SMOTE(random_state=589)\n",
    "X_SMOTE, y_SMOTE = sm.fit_sample(X_train,y_train)\n",
    "print(len(y_SMOTE))"
   ]
  },
  {
   "cell_type": "code",
   "execution_count": 71,
   "metadata": {},
   "outputs": [
    {
     "data": {
      "text/plain": [
       "LogisticRegression(C=0.4, max_iter=1000, solver='liblinear')"
      ]
     },
     "execution_count": 71,
     "metadata": {},
     "output_type": "execute_result"
    }
   ],
   "source": [
    "classifier1 = LogisticRegression(C=0.4,max_iter=1000,solver='liblinear')\n",
    "classifier1.fit(X_SMOTE, y_SMOTE)"
   ]
  },
  {
   "cell_type": "code",
   "execution_count": 72,
   "metadata": {},
   "outputs": [],
   "source": [
    "#### Predicting on X_test dataset\n",
    "y_pred1 = classifier1.predict(X_test)"
   ]
  },
  {
   "cell_type": "code",
   "execution_count": 73,
   "metadata": {},
   "outputs": [
    {
     "name": "stdout",
     "output_type": "stream",
     "text": [
      "                              Model  Accuracy  Precision    Recall  F1 Score\n",
      "0               Logistic Regression  0.823667   0.683616  0.367223  0.477789\n",
      "1  Logistic Regression - with SMOTE  0.564667   0.296413  0.714719  0.419039\n"
     ]
    }
   ],
   "source": [
    "acc = accuracy_score(y_test, y_pred1)\n",
    "prec = precision_score(y_test, y_pred1)\n",
    "rec = recall_score(y_test, y_pred1)\n",
    "f1 = f1_score(y_test, y_pred1)\n",
    "\n",
    "model_results = pd.DataFrame([['Logistic Regression - with SMOTE', acc, prec, rec, f1]],\n",
    "               columns = ['Model', 'Accuracy', 'Precision', 'Recall', 'F1 Score'])\n",
    "\n",
    "results = results.append(model_results, ignore_index = True)\n",
    "print(results)"
   ]
  },
  {
   "cell_type": "code",
   "execution_count": 74,
   "metadata": {},
   "outputs": [
    {
     "data": {
      "text/plain": [
       "array([[1223, 1118],\n",
       "       [ 188,  471]], dtype=int64)"
      ]
     },
     "execution_count": 74,
     "metadata": {},
     "output_type": "execute_result"
    }
   ],
   "source": [
    "confusion_matrix(y_test, y_pred1)"
   ]
  },
  {
   "cell_type": "markdown",
   "metadata": {},
   "source": [
    "## DecisionTree"
   ]
  },
  {
   "cell_type": "code",
   "execution_count": 75,
   "metadata": {},
   "outputs": [],
   "source": [
    "from sklearn.tree import DecisionTreeClassifier"
   ]
  },
  {
   "cell_type": "code",
   "execution_count": 76,
   "metadata": {},
   "outputs": [],
   "source": [
    "clf = DecisionTreeClassifier(random_state=14) \n",
    "# training the classifier\n",
    "clf.fit(X_train, y_train)\n",
    "#Prediction\n",
    "pred_dt = clf.predict(X_test)"
   ]
  },
  {
   "cell_type": "code",
   "execution_count": 77,
   "metadata": {},
   "outputs": [
    {
     "name": "stdout",
     "output_type": "stream",
     "text": [
      "                              Model  Accuracy  Precision    Recall  F1 Score\n",
      "0               Logistic Regression  0.823667   0.683616  0.367223  0.477789\n",
      "1  Logistic Regression - with SMOTE  0.564667   0.296413  0.714719  0.419039\n",
      "2                     Decision Tree  0.727000   0.383721  0.400607  0.391982\n"
     ]
    }
   ],
   "source": [
    "# Predicting Test Set\n",
    "acc = accuracy_score(y_test, pred_dt)\n",
    "prec = precision_score(y_test, pred_dt)\n",
    "rec = recall_score(y_test, pred_dt)\n",
    "f1 = f1_score(y_test, pred_dt)\n",
    "\n",
    "model_results = pd.DataFrame([['Decision Tree', acc, prec, rec, f1]],\n",
    "               columns = ['Model', 'Accuracy', 'Precision', 'Recall', 'F1 Score'])\n",
    "\n",
    "results = results.append(model_results, ignore_index = True)\n",
    "print(results)"
   ]
  },
  {
   "cell_type": "code",
   "execution_count": 78,
   "metadata": {},
   "outputs": [
    {
     "data": {
      "text/html": [
       "<div>\n",
       "<style scoped>\n",
       "    .dataframe tbody tr th:only-of-type {\n",
       "        vertical-align: middle;\n",
       "    }\n",
       "\n",
       "    .dataframe tbody tr th {\n",
       "        vertical-align: top;\n",
       "    }\n",
       "\n",
       "    .dataframe thead th {\n",
       "        text-align: right;\n",
       "    }\n",
       "</style>\n",
       "<table border=\"1\" class=\"dataframe\">\n",
       "  <thead>\n",
       "    <tr style=\"text-align: right;\">\n",
       "      <th></th>\n",
       "      <th>Actual_Values</th>\n",
       "      <th>Predicted_Values</th>\n",
       "    </tr>\n",
       "  </thead>\n",
       "  <tbody>\n",
       "    <tr>\n",
       "      <th>10644</th>\n",
       "      <td>0</td>\n",
       "      <td>1</td>\n",
       "    </tr>\n",
       "    <tr>\n",
       "      <th>13951</th>\n",
       "      <td>0</td>\n",
       "      <td>0</td>\n",
       "    </tr>\n",
       "    <tr>\n",
       "      <th>8082</th>\n",
       "      <td>0</td>\n",
       "      <td>0</td>\n",
       "    </tr>\n",
       "    <tr>\n",
       "      <th>10284</th>\n",
       "      <td>0</td>\n",
       "      <td>0</td>\n",
       "    </tr>\n",
       "    <tr>\n",
       "      <th>13473</th>\n",
       "      <td>1</td>\n",
       "      <td>1</td>\n",
       "    </tr>\n",
       "    <tr>\n",
       "      <th>...</th>\n",
       "      <td>...</td>\n",
       "      <td>...</td>\n",
       "    </tr>\n",
       "    <tr>\n",
       "      <th>1040</th>\n",
       "      <td>0</td>\n",
       "      <td>1</td>\n",
       "    </tr>\n",
       "    <tr>\n",
       "      <th>669</th>\n",
       "      <td>1</td>\n",
       "      <td>0</td>\n",
       "    </tr>\n",
       "    <tr>\n",
       "      <th>2729</th>\n",
       "      <td>0</td>\n",
       "      <td>0</td>\n",
       "    </tr>\n",
       "    <tr>\n",
       "      <th>9858</th>\n",
       "      <td>0</td>\n",
       "      <td>0</td>\n",
       "    </tr>\n",
       "    <tr>\n",
       "      <th>6090</th>\n",
       "      <td>0</td>\n",
       "      <td>0</td>\n",
       "    </tr>\n",
       "  </tbody>\n",
       "</table>\n",
       "<p>3000 rows × 2 columns</p>\n",
       "</div>"
      ],
      "text/plain": [
       "       Actual_Values  Predicted_Values\n",
       "10644              0                 1\n",
       "13951              0                 0\n",
       "8082               0                 0\n",
       "10284              0                 0\n",
       "13473              1                 1\n",
       "...              ...               ...\n",
       "1040               0                 1\n",
       "669                1                 0\n",
       "2729               0                 0\n",
       "9858               0                 0\n",
       "6090               0                 0\n",
       "\n",
       "[3000 rows x 2 columns]"
      ]
     },
     "execution_count": 78,
     "metadata": {},
     "output_type": "execute_result"
    }
   ],
   "source": [
    "pd.DataFrame({'Actual_Values':y_test, 'Predicted_Values':pred_dt})"
   ]
  },
  {
   "cell_type": "markdown",
   "metadata": {},
   "source": [
    "## Random Forest"
   ]
  },
  {
   "cell_type": "code",
   "execution_count": 79,
   "metadata": {},
   "outputs": [
    {
     "name": "stdout",
     "output_type": "stream",
     "text": [
      "                              Model  Accuracy  Precision    Recall  F1 Score\n",
      "0               Logistic Regression  0.823667   0.683616  0.367223  0.477789\n",
      "1  Logistic Regression - with SMOTE  0.564667   0.296413  0.714719  0.419039\n",
      "2                     Decision Tree  0.727000   0.383721  0.400607  0.391982\n",
      "3               Random Forest(Gini)  0.820000   0.662125  0.368741  0.473684\n"
     ]
    }
   ],
   "source": [
    "from sklearn.ensemble import RandomForestClassifier\n",
    "clf_rf = RandomForestClassifier()\n",
    "clf_rf.fit(X_train, y_train)\n",
    "\n",
    "# Predicting Test Set\n",
    "y_pred_rf = clf_rf.predict(X_test)\n",
    "acc = accuracy_score(y_test, y_pred_rf)\n",
    "prec = precision_score(y_test, y_pred_rf)\n",
    "rec = recall_score(y_test, y_pred_rf)\n",
    "f1 = f1_score(y_test, y_pred_rf)\n",
    "\n",
    "model_results = pd.DataFrame([['Random Forest(Gini)', acc, prec, rec, f1]],\n",
    "               columns = ['Model', 'Accuracy', 'Precision', 'Recall', 'F1 Score'])\n",
    "\n",
    "results = results.append(model_results, ignore_index = True)\n",
    "print(results)"
   ]
  },
  {
   "cell_type": "code",
   "execution_count": 80,
   "metadata": {},
   "outputs": [
    {
     "name": "stdout",
     "output_type": "stream",
     "text": [
      "                              Model  Accuracy  Precision    Recall  F1 Score\n",
      "0               Logistic Regression  0.823667   0.683616  0.367223  0.477789\n",
      "1  Logistic Regression - with SMOTE  0.564667   0.296413  0.714719  0.419039\n",
      "2                     Decision Tree  0.727000   0.383721  0.400607  0.391982\n",
      "3               Random Forest(Gini)  0.820000   0.662125  0.368741  0.473684\n",
      "4            Random Forest(Entropy)  0.819000   0.658470  0.365706  0.470244\n"
     ]
    }
   ],
   "source": [
    "from sklearn.ensemble import RandomForestClassifier\n",
    "clf_rf = RandomForestClassifier(criterion='entropy')\n",
    "clf_rf.fit(X_train, y_train)\n",
    "\n",
    "# Predicting Test Set\n",
    "y_pred_rf = clf_rf.predict(X_test)\n",
    "acc = accuracy_score(y_test, y_pred_rf)\n",
    "prec = precision_score(y_test, y_pred_rf)\n",
    "rec = recall_score(y_test, y_pred_rf)\n",
    "f1 = f1_score(y_test, y_pred_rf)\n",
    "\n",
    "model_results = pd.DataFrame([['Random Forest(Entropy)', acc, prec, rec, f1]],\n",
    "               columns = ['Model', 'Accuracy', 'Precision', 'Recall', 'F1 Score'])\n",
    "\n",
    "results = results.append(model_results, ignore_index = True)\n",
    "print(results)"
   ]
  },
  {
   "cell_type": "code",
   "execution_count": 81,
   "metadata": {},
   "outputs": [
    {
     "data": {
      "text/html": [
       "<div>\n",
       "<style scoped>\n",
       "    .dataframe tbody tr th:only-of-type {\n",
       "        vertical-align: middle;\n",
       "    }\n",
       "\n",
       "    .dataframe tbody tr th {\n",
       "        vertical-align: top;\n",
       "    }\n",
       "\n",
       "    .dataframe thead th {\n",
       "        text-align: right;\n",
       "    }\n",
       "</style>\n",
       "<table border=\"1\" class=\"dataframe\">\n",
       "  <thead>\n",
       "    <tr style=\"text-align: right;\">\n",
       "      <th></th>\n",
       "      <th>features</th>\n",
       "      <th>score</th>\n",
       "    </tr>\n",
       "  </thead>\n",
       "  <tbody>\n",
       "    <tr>\n",
       "      <th>0</th>\n",
       "      <td>LIMIT_BAL</td>\n",
       "      <td>0.069134</td>\n",
       "    </tr>\n",
       "    <tr>\n",
       "      <th>1</th>\n",
       "      <td>AGE</td>\n",
       "      <td>0.068150</td>\n",
       "    </tr>\n",
       "    <tr>\n",
       "      <th>2</th>\n",
       "      <td>BILL_AMT1</td>\n",
       "      <td>0.064581</td>\n",
       "    </tr>\n",
       "    <tr>\n",
       "      <th>3</th>\n",
       "      <td>BILL_AMT2</td>\n",
       "      <td>0.060799</td>\n",
       "    </tr>\n",
       "    <tr>\n",
       "      <th>4</th>\n",
       "      <td>BILL_AMT3</td>\n",
       "      <td>0.059169</td>\n",
       "    </tr>\n",
       "  </tbody>\n",
       "</table>\n",
       "</div>"
      ],
      "text/plain": [
       "   features      score\n",
       "0  LIMIT_BAL  0.069134\n",
       "1        AGE  0.068150\n",
       "2  BILL_AMT1  0.064581\n",
       "3  BILL_AMT2  0.060799\n",
       "4  BILL_AMT3  0.059169"
      ]
     },
     "execution_count": 81,
     "metadata": {},
     "output_type": "execute_result"
    }
   ],
   "source": [
    "result = pd.DataFrame({'features ': X_train.columns, 'score':clf_rf.feature_importances_.tolist()})\n",
    "result.sort_values(by=['score'], ascending=False).head()"
   ]
  },
  {
   "cell_type": "markdown",
   "metadata": {},
   "source": [
    "## Apply SVM"
   ]
  },
  {
   "cell_type": "code",
   "execution_count": 82,
   "metadata": {},
   "outputs": [],
   "source": [
    "from sklearn.svm import SVC\n",
    "\n",
    "model_svm = SVC(cache_size=100)\n",
    "model_svm.fit(X_train,y_train)\n",
    "predicted = model_svm.predict(X_test)"
   ]
  },
  {
   "cell_type": "code",
   "execution_count": 83,
   "metadata": {},
   "outputs": [
    {
     "name": "stdout",
     "output_type": "stream",
     "text": [
      "                              Model  Accuracy  Precision    Recall  F1 Score\n",
      "0               Logistic Regression  0.823667   0.683616  0.367223  0.477789\n",
      "1  Logistic Regression - with SMOTE  0.564667   0.296413  0.714719  0.419039\n",
      "2                     Decision Tree  0.727000   0.383721  0.400607  0.391982\n",
      "3               Random Forest(Gini)  0.820000   0.662125  0.368741  0.473684\n",
      "4            Random Forest(Entropy)  0.819000   0.658470  0.365706  0.470244\n",
      "5            Support Vector Machine  0.780333   1.000000  0.000000  0.000000\n"
     ]
    }
   ],
   "source": [
    "acc = accuracy_score(y_test, predicted)\n",
    "prec = precision_score(y_test, predicted,zero_division=True)\n",
    "rec = recall_score(y_test, predicted,zero_division=True)\n",
    "f1 = f1_score(y_test, predicted,zero_division=True)\n",
    "\n",
    "model_results = pd.DataFrame([['Support Vector Machine', acc, prec, rec, f1]],\n",
    "               columns = ['Model', 'Accuracy', 'Precision', 'Recall', 'F1 Score'])\n",
    "\n",
    "results = results.append(model_results, ignore_index = True)\n",
    "print(results)"
   ]
  },
  {
   "cell_type": "markdown",
   "metadata": {},
   "source": [
    "### Apply KNN N=3"
   ]
  },
  {
   "cell_type": "code",
   "execution_count": 84,
   "metadata": {},
   "outputs": [
    {
     "data": {
      "text/plain": [
       "KNeighborsClassifier(n_neighbors=3)"
      ]
     },
     "execution_count": 84,
     "metadata": {},
     "output_type": "execute_result"
    }
   ],
   "source": [
    "from sklearn.neighbors import KNeighborsClassifier\n",
    "\n",
    "model_knn3 = KNeighborsClassifier(n_neighbors=3)\n",
    "model_knn3.fit(X_train,y_train)"
   ]
  },
  {
   "cell_type": "markdown",
   "metadata": {},
   "source": [
    "### Apply KNN N=4"
   ]
  },
  {
   "cell_type": "code",
   "execution_count": 85,
   "metadata": {},
   "outputs": [
    {
     "data": {
      "text/plain": [
       "KNeighborsClassifier(n_neighbors=4)"
      ]
     },
     "execution_count": 85,
     "metadata": {},
     "output_type": "execute_result"
    }
   ],
   "source": [
    "model_knn4 = KNeighborsClassifier(n_neighbors=4)\n",
    "model_knn4.fit(X_train,y_train)"
   ]
  },
  {
   "cell_type": "markdown",
   "metadata": {},
   "source": [
    "### Apply KNN N=5"
   ]
  },
  {
   "cell_type": "code",
   "execution_count": 86,
   "metadata": {},
   "outputs": [
    {
     "data": {
      "text/plain": [
       "KNeighborsClassifier()"
      ]
     },
     "execution_count": 86,
     "metadata": {},
     "output_type": "execute_result"
    }
   ],
   "source": [
    "model_knn5 = KNeighborsClassifier(n_neighbors=5)\n",
    "model_knn5.fit(X_train,y_train)"
   ]
  },
  {
   "cell_type": "code",
   "execution_count": 87,
   "metadata": {},
   "outputs": [
    {
     "name": "stdout",
     "output_type": "stream",
     "text": [
      "                              Model  Accuracy  Precision    Recall  F1 Score\n",
      "0               Logistic Regression  0.823667   0.683616  0.367223  0.477789\n",
      "1  Logistic Regression - with SMOTE  0.564667   0.296413  0.714719  0.419039\n",
      "2                     Decision Tree  0.727000   0.383721  0.400607  0.391982\n",
      "3               Random Forest(Gini)  0.820000   0.662125  0.368741  0.473684\n",
      "4            Random Forest(Entropy)  0.819000   0.658470  0.365706  0.470244\n",
      "5            Support Vector Machine  0.780333   1.000000  0.000000  0.000000\n",
      "6                   KNN-3 neigbours  0.733000   0.330144  0.209408  0.256267\n",
      "7                   KNN-4 neigbours  0.762333   0.344828  0.091047  0.144058\n",
      "8                   KNN-5 neigbours  0.745333   0.325581  0.148710  0.204167\n"
     ]
    }
   ],
   "source": [
    "#Predicting Test set when n=3\n",
    "pred_knn3 = model_knn3.predict(X_test)\n",
    "acc = accuracy_score(y_test, pred_knn3)\n",
    "prec = precision_score(y_test, pred_knn3)\n",
    "rec = recall_score(y_test, pred_knn3)\n",
    "f1 = f1_score(y_test, pred_knn3)\n",
    "\n",
    "model_results = pd.DataFrame([['KNN-3 neigbours', acc, prec, rec, f1]],\n",
    "               columns = ['Model', 'Accuracy', 'Precision', 'Recall', 'F1 Score'])\n",
    "\n",
    "results = results.append(model_results, ignore_index = True)\n",
    "\n",
    "\n",
    "# Predicting Test Set N=4\n",
    "pred_knn4= model_knn4.predict(X_test)\n",
    "acc = accuracy_score(y_test, pred_knn4)\n",
    "prec = precision_score(y_test, pred_knn4)\n",
    "rec = recall_score(y_test, pred_knn4)\n",
    "f1 = f1_score(y_test, pred_knn4)\n",
    "\n",
    "model_results = pd.DataFrame([['KNN-4 neigbours', acc, prec, rec, f1]],\n",
    "               columns = ['Model', 'Accuracy', 'Precision', 'Recall', 'F1 Score'])\n",
    "\n",
    "results = results.append(model_results, ignore_index = True)\n",
    "\n",
    "\n",
    "# Predicting Test Set N=5\n",
    "pred_knn5= model_knn5.predict(X_test)\n",
    "acc = accuracy_score(y_test, pred_knn5)\n",
    "prec = precision_score(y_test, pred_knn5)\n",
    "rec = recall_score(y_test, pred_knn5)\n",
    "f1 = f1_score(y_test, pred_knn5)\n",
    "\n",
    "model_results = pd.DataFrame([['KNN-5 neigbours', acc, prec, rec, f1]],\n",
    "               columns = ['Model', 'Accuracy', 'Precision', 'Recall', 'F1 Score'])\n",
    "\n",
    "results = results.append(model_results, ignore_index = True)\n",
    "\n",
    "print(results)"
   ]
  },
  {
   "cell_type": "markdown",
   "metadata": {},
   "source": [
    "### Apply Naive Bayes"
   ]
  },
  {
   "cell_type": "code",
   "execution_count": 88,
   "metadata": {},
   "outputs": [
    {
     "data": {
      "text/plain": [
       "GaussianNB()"
      ]
     },
     "execution_count": 88,
     "metadata": {},
     "output_type": "execute_result"
    }
   ],
   "source": [
    "from sklearn.naive_bayes import GaussianNB\n",
    "\n",
    "gnb = GaussianNB()\n",
    "gnb.fit(X_train, y_train)"
   ]
  },
  {
   "cell_type": "code",
   "execution_count": 89,
   "metadata": {},
   "outputs": [
    {
     "name": "stdout",
     "output_type": "stream",
     "text": [
      "                              Model  Accuracy  Precision    Recall  F1 Score\n",
      "0               Logistic Regression  0.823667   0.683616  0.367223  0.477789\n",
      "1  Logistic Regression - with SMOTE  0.564667   0.296413  0.714719  0.419039\n",
      "2                     Decision Tree  0.727000   0.383721  0.400607  0.391982\n",
      "3               Random Forest(Gini)  0.820000   0.662125  0.368741  0.473684\n",
      "4            Random Forest(Entropy)  0.819000   0.658470  0.365706  0.470244\n",
      "5            Support Vector Machine  0.780333   1.000000  0.000000  0.000000\n",
      "6                   KNN-3 neigbours  0.733000   0.330144  0.209408  0.256267\n",
      "7                   KNN-4 neigbours  0.762333   0.344828  0.091047  0.144058\n",
      "8                   KNN-5 neigbours  0.745333   0.325581  0.148710  0.204167\n",
      "9              Gaussian Naive Bayes  0.356333   0.245600  0.931715  0.388731\n"
     ]
    }
   ],
   "source": [
    "# Predicting Test Set\n",
    "pred_gnb = gnb.predict(X_test)\n",
    "acc = accuracy_score(y_test, pred_gnb)\n",
    "prec = precision_score(y_test, pred_gnb)\n",
    "rec = recall_score(y_test, pred_gnb)\n",
    "f1 = f1_score(y_test, pred_gnb)\n",
    "\n",
    "model_results = pd.DataFrame([['Gaussian Naive Bayes', acc, prec, rec, f1]],\n",
    "               columns = ['Model', 'Accuracy', 'Precision', 'Recall', 'F1 Score'])\n",
    "\n",
    "results = results.append(model_results, ignore_index = True)\n",
    "print(results)"
   ]
  },
  {
   "cell_type": "markdown",
   "metadata": {},
   "source": [
    "### Apply Bernoullie Naive Bayes"
   ]
  },
  {
   "cell_type": "code",
   "execution_count": 90,
   "metadata": {},
   "outputs": [
    {
     "data": {
      "text/plain": [
       "BernoulliNB()"
      ]
     },
     "execution_count": 90,
     "metadata": {},
     "output_type": "execute_result"
    }
   ],
   "source": [
    "from sklearn.naive_bayes import BernoulliNB\n",
    "\n",
    "model_nb = BernoulliNB()\n",
    "model_nb.fit(X_train, y_train)"
   ]
  },
  {
   "cell_type": "code",
   "execution_count": 91,
   "metadata": {},
   "outputs": [
    {
     "name": "stdout",
     "output_type": "stream",
     "text": [
      "                               Model  Accuracy  Precision    Recall  F1 Score\n",
      "0                Logistic Regression  0.823667   0.683616  0.367223  0.477789\n",
      "1   Logistic Regression - with SMOTE  0.564667   0.296413  0.714719  0.419039\n",
      "2                      Decision Tree  0.727000   0.383721  0.400607  0.391982\n",
      "3                Random Forest(Gini)  0.820000   0.662125  0.368741  0.473684\n",
      "4             Random Forest(Entropy)  0.819000   0.658470  0.365706  0.470244\n",
      "5             Support Vector Machine  0.780333   1.000000  0.000000  0.000000\n",
      "6                    KNN-3 neigbours  0.733000   0.330144  0.209408  0.256267\n",
      "7                    KNN-4 neigbours  0.762333   0.344828  0.091047  0.144058\n",
      "8                    KNN-5 neigbours  0.745333   0.325581  0.148710  0.204167\n",
      "9               Gaussian Naive Bayes  0.356333   0.245600  0.931715  0.388731\n",
      "10             Bernoulli Naive Bayes  0.788333   0.519672  0.481032  0.499606\n"
     ]
    }
   ],
   "source": [
    "# Predicting Test Set\n",
    "pred_bnb = model_nb.predict(X_test)\n",
    "acc = accuracy_score(y_test, pred_bnb)\n",
    "prec = precision_score(y_test, pred_bnb)\n",
    "rec = recall_score(y_test, pred_bnb)\n",
    "f1 = f1_score(y_test, pred_bnb)\n",
    "\n",
    "model_results = pd.DataFrame([['Bernoulli Naive Bayes', acc, prec, rec, f1]],\n",
    "               columns = ['Model', 'Accuracy', 'Precision', 'Recall', 'F1 Score'])\n",
    "\n",
    "results = results.append(model_results, ignore_index = True)\n",
    "print(results)"
   ]
  },
  {
   "cell_type": "markdown",
   "metadata": {},
   "source": [
    "### Checking Best Metrics"
   ]
  },
  {
   "cell_type": "markdown",
   "metadata": {},
   "source": [
    "#### Check Best Accuracy"
   ]
  },
  {
   "cell_type": "code",
   "execution_count": 92,
   "metadata": {},
   "outputs": [
    {
     "data": {
      "image/png": "[encoded data removed]",
      "text/plain": [
       "<Figure size 576x360 with 1 Axes>"
      ]
     },
     "metadata": {
      "needs_background": "light"
     },
     "output_type": "display_data"
    }
   ],
   "source": [
    "plt.figure(figsize=(8,5))\n",
    "max_acc_index = results.Accuracy[results.Accuracy == results.Accuracy.max()].index[0]\n",
    "plt.barh(results.Model, results.Accuracy, color='c')\n",
    "plt.barh(results.Model[max_acc_index], results.Accuracy[max_acc_index], color='r')\n",
    "plt.show()"
   ]
  },
  {
   "cell_type": "markdown",
   "metadata": {},
   "source": [
    "#### Checking Best Recall"
   ]
  },
  {
   "cell_type": "code",
   "execution_count": 93,
   "metadata": {},
   "outputs": [
    {
     "data": {
      "image/png": "[encoded data removed]",
      "text/plain": [
       "<Figure size 576x360 with 1 Axes>"
      ]
     },
     "metadata": {
      "needs_background": "light"
     },
     "output_type": "display_data"
    }
   ],
   "source": [
    "plt.figure(figsize=(8,5))\n",
    "max_rec_index = results.Recall[results.Recall == results.Recall.max()].index[0]\n",
    "plt.barh(results.Model, results.Recall, color='c')\n",
    "plt.barh(results.Model[max_rec_index], results.Recall[max_rec_index], color='r')\n",
    "plt.show()"
   ]
  },
  {
   "cell_type": "markdown",
   "metadata": {},
   "source": [
    "#### Checking Best Precision"
   ]
  },
  {
   "cell_type": "code",
   "execution_count": 94,
   "metadata": {},
   "outputs": [
    {
     "data": {
      "image/png": "[encoded data removed]",
      "text/plain": [
       "<Figure size 576x360 with 1 Axes>"
      ]
     },
     "metadata": {
      "needs_background": "light"
     },
     "output_type": "display_data"
    }
   ],
   "source": [
    "plt.figure(figsize=(8,5))\n",
    "max_pre_index=results.Precision[results.Precision==results.Precision.max()].index[0]\n",
    "plt.barh(results.Model,results.Precision,color='c')\n",
    "plt.barh(results.Model[max_pre_index],results.Precision[max_pre_index],color='r')\n",
    "plt.show()"
   ]
  },
  {
   "cell_type": "markdown",
   "metadata": {},
   "source": [
    "#### Checking Best F1 Score"
   ]
  },
  {
   "cell_type": "code",
   "execution_count": 95,
   "metadata": {},
   "outputs": [
    {
     "data": {
      "image/png": "[encoded data removed]",
      "text/plain": [
       "<Figure size 576x360 with 1 Axes>"
      ]
     },
     "metadata": {
      "needs_background": "light"
     },
     "output_type": "display_data"
    }
   ],
   "source": [
    "plt.figure(figsize=(8,5))\n",
    "max_f1_index=results['F1 Score'][results['F1 Score']==results['F1 Score'].max()].index[0]\n",
    "plt.barh(results.Model,results['F1 Score'],color='c')\n",
    "plt.barh(results.Model[max_f1_index],results.Accuracy[max_f1_index],color='r')\n",
    "plt.show()"
   ]
  },
  {
   "cell_type": "code",
   "execution_count": null,
   "metadata": {},
   "outputs": [],
   "source": []
  }
 ],
 "metadata": {
  "kernelspec": {
   "display_name": "Python 3",
   "language": "python",
   "name": "python3"
  },
  "language_info": {
   "codemirror_mode": {
    "name": "ipython",
    "version": 3
   },
   "file_extension": ".py",
   "mimetype": "text/x-python",
   "name": "python",
   "nbconvert_exporter": "python",
   "pygments_lexer": "ipython3",
   "version": "3.7.4"
  }
 },
 "nbformat": 4,
 "nbformat_minor": 2
}
